{
 "cells": [
  {
   "cell_type": "markdown",
   "metadata": {},
   "source": [
    "# Module: Inheritance Assignments\n",
    "## Lesson: Single and Multiple Inheritance\n",
    "\n",
    "\n",
    "\n",
    "\n",
    "\n",
    "\n",
    "\n",
    "\n",
    "\n",
    "### Assignment 12: Complex Multiple Inheritance\n",
    "\n",
    "Create a class named `Base1` with an attribute `a`. Create a class named `Base2` with an attribute `b`. Create a class named `Derived` that inherits from both `Base1` and `Base2` and adds an attribute `c`. Initialize all attributes using the `super()` function. Create an object of the `Derived` class and print its attributes.\n",
    "\n",
    "### Assignment 13: Checking Instance Types with Inheritance\n",
    "\n",
    "Create a base class named `Animal` and a derived class named `Cat`. Create objects of both classes and use the `isinstance` function to check the instance types.\n",
    "\n",
    "### Assignment 14: Polymorphism with Inheritance\n",
    "\n",
    "Create a base class named `Bird` with a method `speak`. Create two derived classes `Parrot` and `Penguin` that override the `speak` method. Create a list of `Bird` objects and call the `speak` method on each object to demonstrate polymorphism.\n",
    "\n",
    "### Assignment 15: Combining Single and Multiple Inheritance\n",
    "\n",
    "Create a base class named `Device` with an attribute `brand`. Create a derived class `Phone` that inherits from `Device` and adds an attribute `model`. Create another base class `Camera` with an attribute `resolution`. Create a derived class `Smartphone` that inherits from both `Phone` and `Camera`. Create an object of the `Smartphone` class and print its attributes."
   ]
  },
  {
   "cell_type": "markdown",
   "id": "a0d2a8fc",
   "metadata": {},
   "source": [
    "### Assignment 1: Single Inheritance Basic\n",
    "\n",
    "Create a base class named `Animal` with attributes `name` and `species`. Create a derived class named `Dog` that inherits from `Animal` and adds an attribute `breed`. Create an object of the `Dog` class and print its attributes."
   ]
  },
  {
   "cell_type": "code",
   "execution_count": 6,
   "metadata": {},
   "outputs": [],
   "source": [
    "class Animal:\n",
    "    def __init__(self, name, species):\n",
    "        self.name = name\n",
    "        self.species = species\n",
    "        \n",
    "# Derived Class\n",
    "\n",
    "class Dog(Animal):\n",
    "    def __init__(self, name, species, breed):\n",
    "        super().__init__(name, species)\n",
    "        self.breed = breed\n",
    "        \n",
    "    def __str__(self):\n",
    "        return f\"Dog(Name: {self.name}, breed: {self.breed}, Parent: {self.species})\"\n",
    "dog = Dog(\"Sammy\", \"Dog\", \"siberian Husky\")"
   ]
  },
  {
   "cell_type": "code",
   "execution_count": 5,
   "id": "47649348",
   "metadata": {},
   "outputs": [
    {
     "data": {
      "text/plain": [
       "('Sammy', 'siberian Husky')"
      ]
     },
     "execution_count": 5,
     "metadata": {},
     "output_type": "execute_result"
    }
   ],
   "source": [
    "dog.name, dog.breed"
   ]
  },
  {
   "cell_type": "markdown",
   "id": "22a75709",
   "metadata": {},
   "source": [
    "### Assignment 2: Method Overriding in Single Inheritance\n",
    "\n",
    "In the `Dog` class, override the `__str__` method to return a string representation of the object. Create an object of the class and print it."
   ]
  },
  {
   "cell_type": "code",
   "execution_count": 7,
   "id": "afcfc474",
   "metadata": {},
   "outputs": [
    {
     "name": "stdout",
     "output_type": "stream",
     "text": [
      "Dog(Name: Sammy, breed: siberian Husky, Parent: Dog)\n"
     ]
    }
   ],
   "source": [
    "print(dog)"
   ]
  },
  {
   "cell_type": "markdown",
   "id": "a5d81578",
   "metadata": {},
   "source": [
    "### Assignment 3: Single Inheritance with Additional Methods\n",
    "\n",
    "In the `Dog` class, add a method named `bark` that prints a barking sound. Create an object of the class and call the method."
   ]
  },
  {
   "cell_type": "code",
   "execution_count": 8,
   "id": "ebc28862",
   "metadata": {},
   "outputs": [],
   "source": [
    "class Dog(Animal):\n",
    "    def __init__(self, name, species, breed):\n",
    "        super().__init__(name, species)\n",
    "        self.breed = breed\n",
    "        \n",
    "    def __str__(self):\n",
    "        return f\"Dog(Name: {self.name}, breed: {self.breed}, Parent: {self.species})\"\n",
    "    \n",
    "    def bark(self):\n",
    "        return f\"{self.name} barks like woof!\""
   ]
  },
  {
   "cell_type": "code",
   "execution_count": 10,
   "id": "d6c36e1e",
   "metadata": {},
   "outputs": [
    {
     "name": "stdout",
     "output_type": "stream",
     "text": [
      "Dog(Name: Tiger, breed: Alsiation, Parent: Dog)\n"
     ]
    }
   ],
   "source": [
    "mydog = Dog(\"Tiger\", \"Dog\", \"Alsiation\")\n",
    "\n",
    "print(mydog)"
   ]
  },
  {
   "cell_type": "code",
   "execution_count": 11,
   "id": "131bebd6",
   "metadata": {},
   "outputs": [
    {
     "data": {
      "text/plain": [
       "'Tiger barks like woof!'"
      ]
     },
     "execution_count": 11,
     "metadata": {},
     "output_type": "execute_result"
    }
   ],
   "source": [
    "mydog.bark()"
   ]
  },
  {
   "cell_type": "markdown",
   "id": "9f647763",
   "metadata": {},
   "source": [
    "### Assignment 4: Multiple Inheritance Basic\n",
    "\n",
    "Create a base class named `Walker` with a method `walk` that prints a walking message. Create another base class named `Runner` with a method `run` that prints a running message. Create a derived class named `Athlete` that inherits from both `Walker` and `Runner`. Create an object of the `Athlete` class and call both methods."
   ]
  },
  {
   "cell_type": "code",
   "execution_count": 16,
   "id": "cdd5192f",
   "metadata": {},
   "outputs": [
    {
     "data": {
      "text/plain": [
       "'Running started'"
      ]
     },
     "execution_count": 16,
     "metadata": {},
     "output_type": "execute_result"
    }
   ],
   "source": [
    "# Base class 1\n",
    "class Walker:\n",
    "    def walk(self):\n",
    "        return \"Walking started\"\n",
    "    \n",
    "# Base class 2 \n",
    "class Runner:\n",
    "    def run(self):\n",
    "        return \"Running started\"\n",
    "    \n",
    "# Derived class \n",
    "\n",
    "class Athlete(Walker, Runner):\n",
    "    def __init__(self, name, age):\n",
    "        self.name = name\n",
    "        self.age = age\n",
    "\n",
    "ath1 = Athlete(\"Rohan\", 30)\n",
    "ath1.run()"
   ]
  },
  {
   "cell_type": "markdown",
   "id": "5476510c",
   "metadata": {},
   "source": [
    "### Assignment 5: Method Resolution Order (MRO) in Multiple Inheritance\n",
    "\n",
    "In the `Athlete` class, override the `walk` method to print a different message. Create an object of the class and call the `walk` method. Use the `super()` function to call the `walk` method of the `Walker` class."
   ]
  },
  {
   "cell_type": "code",
   "execution_count": 25,
   "id": "1b29ef50",
   "metadata": {},
   "outputs": [],
   "source": [
    "# Base class 1\n",
    "class Walker:\n",
    "    def walk(self):\n",
    "        return \"Walking started\"\n",
    "    \n",
    "# Base class 2 \n",
    "class Runner:\n",
    "    def run(self):\n",
    "        return \"Running started\"\n",
    "    \n",
    "# Derived class \n",
    "\n",
    "class Athlete(Walker, Runner):\n",
    "    def __init__(self, name, age):\n",
    "        Runner().__init__()\n",
    "        self.name = name\n",
    "        self.age = age\n",
    "        \n",
    "    def run(self):\n",
    "        return f\"{self.name} started running.\""
   ]
  },
  {
   "cell_type": "code",
   "execution_count": 26,
   "id": "ed77f573",
   "metadata": {},
   "outputs": [
    {
     "data": {
      "text/plain": [
       "'Rohan started running.'"
      ]
     },
     "execution_count": 26,
     "metadata": {},
     "output_type": "execute_result"
    }
   ],
   "source": [
    "ath1 = Athlete(\"Rohan\", 30)\n",
    "ath1.run()"
   ]
  },
  {
   "cell_type": "markdown",
   "id": "db66f8cd",
   "metadata": {},
   "source": [
    "### Assignment 6: Multiple Inheritance with Additional Attributes\n",
    "\n",
    "In the `Athlete` class, add an attribute `training_hours` and a method `train` that prints the training hours. Create an object of the class and call the method.\n"
   ]
  },
  {
   "cell_type": "code",
   "execution_count": 27,
   "id": "1daaea7a",
   "metadata": {},
   "outputs": [],
   "source": [
    "# Base class 1\n",
    "class Walker:\n",
    "    def walk(self):\n",
    "        return \"Walking started\"\n",
    "    \n",
    "# Base class 2 \n",
    "class Runner:\n",
    "    def run(self):\n",
    "        return \"Running started\"\n",
    "    \n",
    "# Derived class \n",
    "\n",
    "class Athlete(Walker, Runner):\n",
    "    def __init__(self, name, age, training_hours):\n",
    "        Runner().__init__()\n",
    "        self.name = name\n",
    "        self.age = age\n",
    "        self.training_hours = training_hours\n",
    "        \n",
    "        \n",
    "    def run(self):\n",
    "        return f\"{self.name} started running.\"\n",
    "    \n",
    "    def train(self):\n",
    "        return f\"Training hour: {self.training_hours}\""
   ]
  },
  {
   "cell_type": "code",
   "execution_count": 28,
   "id": "6bc93c0c",
   "metadata": {},
   "outputs": [
    {
     "data": {
      "text/plain": [
       "'Training hour: 3'"
      ]
     },
     "execution_count": 28,
     "metadata": {},
     "output_type": "execute_result"
    }
   ],
   "source": [
    "ath2 = Athlete(\"Sarthak\", 29, 3)\n",
    "\n",
    "ath2.train()"
   ]
  },
  {
   "cell_type": "markdown",
   "id": "6c2e07b5",
   "metadata": {},
   "source": [
    "### Assignment 7: Diamond Problem in Multiple Inheritance\n",
    "\n",
    "Create a class named `A` with a method `show` that prints a message. Create two derived classes `B` and `C` that inherit from `A` and override the `show` method. Create a class `D` that inherits from both `B` and `C`. Create an object of the `D` class and call the `show` method. Observe the method resolution order."
   ]
  },
  {
   "cell_type": "code",
   "execution_count": 29,
   "id": "ca7e07bd",
   "metadata": {},
   "outputs": [],
   "source": [
    "class A:\n",
    "    def show(self):\n",
    "        return \"A message shown.\"\n",
    "    \n",
    "class B(A):\n",
    "    def show(self):\n",
    "        return \"B message shown.\"\n",
    "\n",
    "class C(A):\n",
    "    def show(self):\n",
    "        return \"C message\"\n",
    "\n",
    "class D(B, C):\n",
    "    def show(self):\n",
    "        return \"D message\""
   ]
  },
  {
   "cell_type": "code",
   "execution_count": 30,
   "id": "e73b98c3",
   "metadata": {},
   "outputs": [
    {
     "data": {
      "text/plain": [
       "'D message'"
      ]
     },
     "execution_count": 30,
     "metadata": {},
     "output_type": "execute_result"
    }
   ],
   "source": [
    "ob = D()\n",
    "ob.show()"
   ]
  },
  {
   "cell_type": "markdown",
   "id": "69a3d7b7",
   "metadata": {},
   "source": [
    "### Assignment 8: Using `super()` in Single Inheritance\n",
    "\n",
    "Create a base class named `Shape` with an attribute `color`. Create a derived class named `Circle` that inherits from `Shape` and adds an attribute `radius`. Use the `super()` function to initialize the attributes. Create an object of the `Circle` class and print its attributes."
   ]
  },
  {
   "cell_type": "code",
   "execution_count": 33,
   "id": "274c0671",
   "metadata": {},
   "outputs": [],
   "source": [
    "class Shape:\n",
    "    def __init__(self, color):\n",
    "        self.color = color\n",
    "        \n",
    "class Circle(Shape):\n",
    "    def __init__(self, color, radius):\n",
    "        super().__init__(color)\n",
    "        self.radius = radius\n",
    "        \n",
    "shape = Circle(color=\"Green\", radius=3)"
   ]
  },
  {
   "cell_type": "code",
   "execution_count": 35,
   "id": "510a7340",
   "metadata": {},
   "outputs": [
    {
     "data": {
      "text/plain": [
       "(3, 'Green')"
      ]
     },
     "execution_count": 35,
     "metadata": {},
     "output_type": "execute_result"
    }
   ],
   "source": [
    "shape.radius, shape.color"
   ]
  },
  {
   "cell_type": "markdown",
   "id": "34be6c22",
   "metadata": {},
   "source": [
    "### Assignment 9: Using `super()` in Multiple Inheritance\n",
    "\n",
    "Create a class named `Person` with an attribute `name`. Create a class named `Employee` with an attribute `employee_id`. Create a derived class `Manager` that inherits from both `Person` and `Employee`. Use the `super()` function to initialize the attributes. Create an object of the `Manager` class and print its attributes."
   ]
  },
  {
   "cell_type": "code",
   "execution_count": 14,
   "id": "40448f61",
   "metadata": {},
   "outputs": [],
   "source": [
    "class Person:\n",
    "    def __init__(self, name):\n",
    "        self.name = name\n",
    "    \n",
    "class Employee:\n",
    "    def __init__(self, employee_id):\n",
    "        self.employee_id = employee_id\n",
    "        \n",
    "class Manager(Person, Employee):\n",
    "    \n",
    "    def __init__(self, name, employee_id):\n",
    "        Person.__init__(self, name)\n",
    "        Employee.__init__(self, employee_id) "
   ]
  },
  {
   "cell_type": "code",
   "execution_count": 15,
   "id": "b257b69d",
   "metadata": {},
   "outputs": [
    {
     "data": {
      "text/plain": [
       "('Sarthak', 1105)"
      ]
     },
     "execution_count": 15,
     "metadata": {},
     "output_type": "execute_result"
    }
   ],
   "source": [
    "man = Manager(\"Sarthak\", 1105)\n",
    "man.name, man.employee_id"
   ]
  },
  {
   "cell_type": "markdown",
   "id": "e21f752c",
   "metadata": {},
   "source": [
    "### Assignment 10: Method Overriding and `super()`\n",
    "\n",
    "Create a class named `Vehicle` with a method `start` that prints a starting message. Create a derived class `Car` that overrides the `start` method to print a different message. Use the `super()` function to call the `start` method of the `Vehicle` class. Create an object of the `Car` class and call the `start` method.\n"
   ]
  },
  {
   "cell_type": "code",
   "execution_count": 16,
   "id": "496790a2",
   "metadata": {},
   "outputs": [],
   "source": [
    "class Vehicle:\n",
    "    def start(self):\n",
    "        return \"Vehicle Started\"\n",
    "\n",
    "class Car(Vehicle):\n",
    "    def __init__(self, name):\n",
    "        super().__init__()\n",
    "        self.name = name\n",
    "        \n",
    "    def start(self):\n",
    "        return f\"{self.name} started\""
   ]
  },
  {
   "cell_type": "code",
   "execution_count": 18,
   "id": "58de2f6c",
   "metadata": {},
   "outputs": [
    {
     "data": {
      "text/plain": [
       "'Dhanno started'"
      ]
     },
     "execution_count": 18,
     "metadata": {},
     "output_type": "execute_result"
    }
   ],
   "source": [
    "bis = Car(\"Dhanno\")\n",
    "bis.start()"
   ]
  },
  {
   "cell_type": "markdown",
   "id": "9344809d",
   "metadata": {},
   "source": [
    "### Assignment 11: Multiple Inheritance with Different Methods\n",
    "\n",
    "Create a class named `Flyer` with a method `fly` that prints a flying message. Create a class named `Swimmer` with a method `swim` that prints a swimming message. Create a derived class `Superhero` that inherits from both `Flyer` and `Swimmer`. Create an object of the `Superhero` class and call both methods.\n"
   ]
  },
  {
   "cell_type": "code",
   "execution_count": 21,
   "id": "13992b0e",
   "metadata": {},
   "outputs": [],
   "source": [
    "class Flyer:\n",
    "    def fly(self):\n",
    "        return \"Flyer flying\"\n",
    "class Swimmer:\n",
    "    def swim(self):\n",
    "        return \"Swimming started.\"\n",
    "\n",
    "# derived\n",
    "\n",
    "class Superhero(Flyer, Swimmer):\n",
    "    def __init__(self, name):\n",
    "        Flyer().__init__()\n",
    "        Swimmer().__init__()\n",
    "        self.name = name\n",
    "        \n",
    "\n",
    "sp = Superhero(\"Azkbareta\")"
   ]
  },
  {
   "cell_type": "code",
   "execution_count": 24,
   "id": "53a4aea2",
   "metadata": {},
   "outputs": [
    {
     "data": {
      "text/plain": [
       "'Swimming started.'"
      ]
     },
     "execution_count": 24,
     "metadata": {},
     "output_type": "execute_result"
    }
   ],
   "source": [
    "sp.swim()"
   ]
  },
  {
   "cell_type": "markdown",
   "id": "ef65f43d",
   "metadata": {},
   "source": []
  }
 ],
 "metadata": {
  "kernelspec": {
   "display_name": "Python 3",
   "language": "python",
   "name": "python3"
  },
  "language_info": {
   "codemirror_mode": {
    "name": "ipython",
    "version": 3
   },
   "file_extension": ".py",
   "mimetype": "text/x-python",
   "name": "python",
   "nbconvert_exporter": "python",
   "pygments_lexer": "ipython3",
   "version": "3.10.12"
  }
 },
 "nbformat": 4,
 "nbformat_minor": 5
}
