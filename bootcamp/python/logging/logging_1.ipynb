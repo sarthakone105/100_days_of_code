{
 "cells": [
  {
   "cell_type": "code",
   "execution_count": 2,
   "metadata": {},
   "outputs": [],
   "source": [
    "import logging\n",
    "\n",
    "## First we have to configure basic config of login\n",
    "\n",
    "logging.basicConfig(level=logging.DEBUG)"
   ]
  },
  {
   "cell_type": "code",
   "execution_count": 3,
   "metadata": {},
   "outputs": [
    {
     "name": "stderr",
     "output_type": "stream",
     "text": [
      "DEBUG:root:This is a debug message.\n",
      "INFO:root:This is an info meassage.\n",
      "WARNING:root:This is a warning meassage.\n",
      "ERROR:root:This is an error meassage.\n",
      "CRITICAL:root:This is a crtical message\n"
     ]
    }
   ],
   "source": [
    "## log message with different severity message levels.\n",
    "\n",
    "logging.debug(\"This is a debug message.\")\n",
    "logging.info(\"This is an info meassage.\")\n",
    "logging.warning(\"This is a warning meassage.\")\n",
    "logging.error(\"This is an error meassage.\")\n",
    "logging.critical(\"This is a crtical message\")"
   ]
  },
  {
   "cell_type": "code",
   "execution_count": null,
   "metadata": {},
   "outputs": [],
   "source": []
  }
 ],
 "metadata": {
  "kernelspec": {
   "display_name": "Python 3",
   "language": "python",
   "name": "python3"
  },
  "language_info": {
   "codemirror_mode": {
    "name": "ipython",
    "version": 3
   },
   "file_extension": ".py",
   "mimetype": "text/x-python",
   "name": "python",
   "nbconvert_exporter": "python",
   "pygments_lexer": "ipython3",
   "version": "3.10.12"
  }
 },
 "nbformat": 4,
 "nbformat_minor": 2
}
